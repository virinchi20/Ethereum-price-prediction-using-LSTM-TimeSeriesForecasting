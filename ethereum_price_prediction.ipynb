{
 "cells": [
  {
   "cell_type": "code",
   "execution_count": 3,
   "metadata": {},
   "outputs": [],
   "source": [
    "import tensorflow as tf\n",
    "import numpy as np\n",
    "import pandas as pd\n",
    "from matplotlib import pyplot as plt\n",
    "from sklearn.preprocessing import StandardScaler\n",
    "import seaborn as sns"
   ]
  },
  {
   "cell_type": "code",
   "execution_count": 4,
   "metadata": {},
   "outputs": [],
   "source": [
    "df = pd.read_csv('Ethereum Historical Data.csv')"
   ]
  },
  {
   "cell_type": "code",
   "execution_count": 5,
   "metadata": {},
   "outputs": [
    {
     "data": {
      "text/html": [
       "<div>\n",
       "<style scoped>\n",
       "    .dataframe tbody tr th:only-of-type {\n",
       "        vertical-align: middle;\n",
       "    }\n",
       "\n",
       "    .dataframe tbody tr th {\n",
       "        vertical-align: top;\n",
       "    }\n",
       "\n",
       "    .dataframe thead th {\n",
       "        text-align: right;\n",
       "    }\n",
       "</style>\n",
       "<table border=\"1\" class=\"dataframe\">\n",
       "  <thead>\n",
       "    <tr style=\"text-align: right;\">\n",
       "      <th></th>\n",
       "      <th>Date</th>\n",
       "      <th>Price</th>\n",
       "      <th>Open</th>\n",
       "      <th>High</th>\n",
       "      <th>Low</th>\n",
       "      <th>Vol.</th>\n",
       "      <th>Change %</th>\n",
       "    </tr>\n",
       "  </thead>\n",
       "  <tbody>\n",
       "    <tr>\n",
       "      <th>0</th>\n",
       "      <td>01/19/2024</td>\n",
       "      <td>2,491.81</td>\n",
       "      <td>2,469.77</td>\n",
       "      <td>2,504.09</td>\n",
       "      <td>2,418.61</td>\n",
       "      <td>443.42K</td>\n",
       "      <td>0.89%</td>\n",
       "    </tr>\n",
       "    <tr>\n",
       "      <th>1</th>\n",
       "      <td>01/20/2024</td>\n",
       "      <td>2,472.03</td>\n",
       "      <td>2,491.81</td>\n",
       "      <td>2,491.81</td>\n",
       "      <td>2,455.07</td>\n",
       "      <td>143.98K</td>\n",
       "      <td>-0.79%</td>\n",
       "    </tr>\n",
       "    <tr>\n",
       "      <th>2</th>\n",
       "      <td>01/21/2024</td>\n",
       "      <td>2,457.06</td>\n",
       "      <td>2,472.04</td>\n",
       "      <td>2,481.63</td>\n",
       "      <td>2,453.48</td>\n",
       "      <td>126.52K</td>\n",
       "      <td>-0.61%</td>\n",
       "    </tr>\n",
       "    <tr>\n",
       "      <th>3</th>\n",
       "      <td>01/22/2024</td>\n",
       "      <td>2,313.64</td>\n",
       "      <td>2,457.06</td>\n",
       "      <td>2,465.97</td>\n",
       "      <td>2,304.06</td>\n",
       "      <td>560.84K</td>\n",
       "      <td>-5.84%</td>\n",
       "    </tr>\n",
       "    <tr>\n",
       "      <th>4</th>\n",
       "      <td>01/23/2024</td>\n",
       "      <td>2,243.74</td>\n",
       "      <td>2,313.65</td>\n",
       "      <td>2,351.18</td>\n",
       "      <td>2,169.54</td>\n",
       "      <td>750.52K</td>\n",
       "      <td>-3.02%</td>\n",
       "    </tr>\n",
       "  </tbody>\n",
       "</table>\n",
       "</div>"
      ],
      "text/plain": [
       "         Date     Price      Open      High       Low     Vol. Change %\n",
       "0  01/19/2024  2,491.81  2,469.77  2,504.09  2,418.61  443.42K    0.89%\n",
       "1  01/20/2024  2,472.03  2,491.81  2,491.81  2,455.07  143.98K   -0.79%\n",
       "2  01/21/2024  2,457.06  2,472.04  2,481.63  2,453.48  126.52K   -0.61%\n",
       "3  01/22/2024  2,313.64  2,457.06  2,465.97  2,304.06  560.84K   -5.84%\n",
       "4  01/23/2024  2,243.74  2,313.65  2,351.18  2,169.54  750.52K   -3.02%"
      ]
     },
     "execution_count": 5,
     "metadata": {},
     "output_type": "execute_result"
    }
   ],
   "source": [
    "df = df.iloc[::-1].reset_index(drop=True)\n",
    "df[:5]"
   ]
  },
  {
   "cell_type": "code",
   "execution_count": 6,
   "metadata": {},
   "outputs": [],
   "source": [
    "train_dates = pd.to_datetime(df['Date'])\n",
    "df = df.rename(columns={\"Vol.\": \"Volume\", \"Change %\": \"Percent_change\"})"
   ]
  },
  {
   "cell_type": "code",
   "execution_count": 7,
   "metadata": {},
   "outputs": [
    {
     "data": {
      "text/plain": [
       "['Price', 'Open', 'High', 'Low', 'Volume', 'Percent_change']"
      ]
     },
     "execution_count": 7,
     "metadata": {},
     "output_type": "execute_result"
    }
   ],
   "source": [
    "cols = list(df)[1:7]\n",
    "cols"
   ]
  },
  {
   "cell_type": "code",
   "execution_count": 8,
   "metadata": {},
   "outputs": [],
   "source": [
    "df[cols] = df[cols].astype('string')"
   ]
  },
  {
   "cell_type": "code",
   "execution_count": 9,
   "metadata": {},
   "outputs": [
    {
     "data": {
      "text/plain": [
       "Date              object\n",
       "Price             string\n",
       "Open              string\n",
       "High              string\n",
       "Low               string\n",
       "Volume            string\n",
       "Percent_change    string\n",
       "dtype: object"
      ]
     },
     "execution_count": 9,
     "metadata": {},
     "output_type": "execute_result"
    }
   ],
   "source": [
    "df.dtypes"
   ]
  },
  {
   "cell_type": "markdown",
   "metadata": {},
   "source": [
    "Making the volume data usable by converting 'M' and 'K' to million and x1000 values, removing commmas from the numbers to convert them to float."
   ]
  },
  {
   "cell_type": "code",
   "execution_count": 10,
   "metadata": {},
   "outputs": [],
   "source": [
    "vol = []\n",
    "for volume in df.Volume:\n",
    "    multiplier = volume[-1]\n",
    "    if multiplier == 'M':\n",
    "        volume = float(volume[:-1]) * 1000000\n",
    "        vol.append(volume)\n",
    "    else:\n",
    "        volume = float(volume[:-1]) * 1000\n",
    "        vol.append(volume)\n",
    "    #print(volume)\n",
    "\n",
    "\n",
    "vol = pd.DataFrame(vol, dtype=float, columns={'Volume'})\n",
    "df.Volume = vol.Volume\n"
   ]
  },
  {
   "cell_type": "code",
   "execution_count": 11,
   "metadata": {},
   "outputs": [],
   "source": [
    "def remove_commas(data_frame):\n",
    "    for i in range (len(data_frame)):\n",
    "        data_frame[i] = data_frame[i].replace(',','')\n"
   ]
  },
  {
   "cell_type": "code",
   "execution_count": 12,
   "metadata": {},
   "outputs": [],
   "source": [
    "remove_commas(df.Price)\n",
    "remove_commas(df.Open)\n",
    "remove_commas(df.High)\n",
    "remove_commas(df.Low)"
   ]
  },
  {
   "cell_type": "code",
   "execution_count": 13,
   "metadata": {},
   "outputs": [],
   "source": [
    "for i in range(len(df.Percent_change)):\n",
    "    df.Percent_change[i] = df.Percent_change[i][:-1]"
   ]
  },
  {
   "cell_type": "code",
   "execution_count": 14,
   "metadata": {},
   "outputs": [
    {
     "data": {
      "text/plain": [
       "<bound method NDFrame.head of        Price     Open     High      Low     Volume  Percent_change\n",
       "0    2491.81  2469.77  2504.09  2418.61   443420.0            0.89\n",
       "1    2472.03  2491.81  2491.81  2455.07   143980.0           -0.79\n",
       "2    2457.06  2472.04  2481.63  2453.48   126520.0           -0.61\n",
       "3    2313.64  2457.06  2465.97  2304.06   560840.0           -5.84\n",
       "4    2243.74  2313.65  2351.18  2169.54   750520.0           -3.02\n",
       "..       ...      ...      ...      ...        ...             ...\n",
       "363  3307.00  3450.79  3459.88  3267.48   536740.0           -4.17\n",
       "364  3472.84  3307.10  3524.96  3307.10   574060.0            5.01\n",
       "365  3308.74  3472.84  3493.38  3233.53   677720.0           -4.73\n",
       "366  3216.74  3308.73  3445.65  3133.37  1440000.0           -2.78\n",
       "367  3282.68  3216.67  3449.78  3150.35  1260000.0            2.05\n",
       "\n",
       "[368 rows x 6 columns]>"
      ]
     },
     "execution_count": 14,
     "metadata": {},
     "output_type": "execute_result"
    }
   ],
   "source": [
    "training_df = df[cols].astype(float)\n",
    "training_df.head"
   ]
  },
  {
   "cell_type": "code",
   "execution_count": 15,
   "metadata": {},
   "outputs": [],
   "source": [
    "scaler = StandardScaler()\n",
    "scaler = scaler.fit(training_df)\n",
    "scaled_training_df = scaler.transform(training_df)"
   ]
  },
  {
   "cell_type": "code",
   "execution_count": 16,
   "metadata": {},
   "outputs": [],
   "source": [
    "trainX = []\n",
    "trainY = []\n",
    "\n",
    "n_future = 1\n",
    "n_past = 14\n",
    "\n",
    "for i in range(n_past, len(scaled_training_df) - n_future+1):\n",
    "    trainX.append(scaled_training_df[i - n_past:i, 0:training_df.shape[1]])\n",
    "    trainY.append(scaled_training_df[i + n_future - 1: i + n_future, 0])\n",
    "\n",
    "trainX, trainY = np.array(trainX), np.array(trainY)"
   ]
  },
  {
   "cell_type": "code",
   "execution_count": 22,
   "metadata": {},
   "outputs": [
    {
     "name": "stdout",
     "output_type": "stream",
     "text": [
      "Model: \"sequential_3\"\n",
      "_________________________________________________________________\n",
      " Layer (type)                Output Shape              Param #   \n",
      "=================================================================\n",
      " lstm_6 (LSTM)               (None, 14, 64)            18176     \n",
      "                                                                 \n",
      " lstm_7 (LSTM)               (None, 32)                12416     \n",
      "                                                                 \n",
      " dropout_3 (Dropout)         (None, 32)                0         \n",
      "                                                                 \n",
      " dense_3 (Dense)             (None, 1)                 33        \n",
      "                                                                 \n",
      "=================================================================\n",
      "Total params: 30,625\n",
      "Trainable params: 30,625\n",
      "Non-trainable params: 0\n",
      "_________________________________________________________________\n"
     ]
    }
   ],
   "source": [
    "model = tf.keras.Sequential()\n",
    "model.add(tf.keras.layers.LSTM(64, activation='relu', input_shape=(trainX.shape[1], trainX.shape[2]), return_sequences=True))\n",
    "model.add(tf.keras.layers.LSTM(32, activation='relu', return_sequences=False))\n",
    "model.add(tf.keras.layers.Dropout(0.2))\n",
    "model.add(tf.keras.layers.Dense(trainY.shape[1]))\n",
    "\n",
    "model.compile(optimizer='adam', loss='mse')\n",
    "model.summary()"
   ]
  },
  {
   "cell_type": "code",
   "execution_count": 23,
   "metadata": {},
   "outputs": [
    {
     "name": "stdout",
     "output_type": "stream",
     "text": [
      "Epoch 1/10\n",
      "20/20 [==============================] - 2s 19ms/step - loss: 0.4845 - val_loss: 0.4460\n",
      "Epoch 2/10\n",
      "20/20 [==============================] - 0s 5ms/step - loss: 0.2515 - val_loss: 0.1146\n",
      "Epoch 3/10\n",
      "20/20 [==============================] - 0s 5ms/step - loss: 0.2046 - val_loss: 0.0977\n",
      "Epoch 4/10\n",
      "20/20 [==============================] - 0s 5ms/step - loss: 0.1676 - val_loss: 0.0882\n",
      "Epoch 5/10\n",
      "20/20 [==============================] - 0s 5ms/step - loss: 0.1234 - val_loss: 0.0927\n",
      "Epoch 6/10\n",
      "20/20 [==============================] - 0s 5ms/step - loss: 0.1165 - val_loss: 0.0837\n",
      "Epoch 7/10\n",
      "20/20 [==============================] - 0s 5ms/step - loss: 0.1033 - val_loss: 0.1064\n",
      "Epoch 8/10\n",
      "20/20 [==============================] - 0s 5ms/step - loss: 0.0872 - val_loss: 0.0649\n",
      "Epoch 9/10\n",
      "20/20 [==============================] - 0s 5ms/step - loss: 0.0898 - val_loss: 0.0661\n",
      "Epoch 10/10\n",
      "20/20 [==============================] - 0s 5ms/step - loss: 0.0960 - val_loss: 0.0596\n"
     ]
    }
   ],
   "source": [
    "history = model.fit(trainX, trainY, epochs=10, batch_size=16, validation_split=0.1, verbose=1)"
   ]
  },
  {
   "cell_type": "code",
   "execution_count": 24,
   "metadata": {},
   "outputs": [
    {
     "data": {
      "text/plain": [
       "<matplotlib.legend.Legend at 0x1fd04d93a48>"
      ]
     },
     "execution_count": 24,
     "metadata": {},
     "output_type": "execute_result"
    },
    {
     "data": {
      "image/png": "[encoded data removed]",
      "text/plain": [
       "<Figure size 640x480 with 1 Axes>"
      ]
     },
     "metadata": {},
     "output_type": "display_data"
    }
   ],
   "source": [
    "plt.plot(history.history['loss'], label='Training loss')\n",
    "plt.plot(history.history['val_loss'], label='Validation loss')\n",
    "plt.legend()"
   ]
  },
  {
   "cell_type": "code",
   "execution_count": 29,
   "metadata": {},
   "outputs": [
    {
     "name": "stdout",
     "output_type": "stream",
     "text": [
      "1/1 [==============================] - 0s 6ms/step\n"
     ]
    }
   ],
   "source": [
    "n_future = 7\n",
    "forecast_period_dates = pd.date_range(list(train_dates)[-1], periods=n_future, freq='1d').tolist()\n",
    "forecast = model.predict(trainX[-n_future:])"
   ]
  },
  {
   "cell_type": "code",
   "execution_count": null,
   "metadata": {},
   "outputs": [
    {
     "data": {
      "text/plain": [
       "([Timestamp('2025-01-20 00:00:00', freq='D'),\n",
       "  Timestamp('2025-01-21 00:00:00', freq='D'),\n",
       "  Timestamp('2025-01-22 00:00:00', freq='D'),\n",
       "  Timestamp('2025-01-23 00:00:00', freq='D'),\n",
       "  Timestamp('2025-01-24 00:00:00', freq='D'),\n",
       "  Timestamp('2025-01-25 00:00:00', freq='D'),\n",
       "  Timestamp('2025-01-26 00:00:00', freq='D')],)"
      ]
     },
     "execution_count": 34,
     "metadata": {},
     "output_type": "execute_result"
    }
   ],
   "source": [
    "forecast_period_dates, "
   ]
  },
  {
   "cell_type": "code",
   "execution_count": 35,
   "metadata": {},
   "outputs": [],
   "source": [
    "#scaling back to the original values\n",
    "forecast_copies = np.repeat(forecast, training_df.shape[1], axis=-1)\n",
    "y_pred_future = scaler.inverse_transform(forecast_copies)[:,0]"
   ]
  },
  {
   "cell_type": "code",
   "execution_count": 36,
   "metadata": {},
   "outputs": [],
   "source": [
    "forecast_dates = []\n",
    "\n",
    "for time_i in forecast_period_dates:\n",
    "    forecast_dates.append(time_i.date())"
   ]
  },
  {
   "cell_type": "code",
   "execution_count": 37,
   "metadata": {},
   "outputs": [],
   "source": [
    "df_forecast = pd.DataFrame({'Date': np.array(forecast_dates), 'Open': y_pred_future})\n",
    "df_forecast['Date'] = pd.to_datetime(df_forecast['Date'])"
   ]
  },
  {
   "cell_type": "code",
   "execution_count": 38,
   "metadata": {},
   "outputs": [
    {
     "data": {
      "text/html": [
       "<div>\n",
       "<style scoped>\n",
       "    .dataframe tbody tr th:only-of-type {\n",
       "        vertical-align: middle;\n",
       "    }\n",
       "\n",
       "    .dataframe tbody tr th {\n",
       "        vertical-align: top;\n",
       "    }\n",
       "\n",
       "    .dataframe thead th {\n",
       "        text-align: right;\n",
       "    }\n",
       "</style>\n",
       "<table border=\"1\" class=\"dataframe\">\n",
       "  <thead>\n",
       "    <tr style=\"text-align: right;\">\n",
       "      <th></th>\n",
       "      <th>Date</th>\n",
       "      <th>Open</th>\n",
       "    </tr>\n",
       "  </thead>\n",
       "  <tbody>\n",
       "    <tr>\n",
       "      <th>0</th>\n",
       "      <td>2025-01-20</td>\n",
       "      <td>3180.879639</td>\n",
       "    </tr>\n",
       "    <tr>\n",
       "      <th>1</th>\n",
       "      <td>2025-01-21</td>\n",
       "      <td>3216.153076</td>\n",
       "    </tr>\n",
       "    <tr>\n",
       "      <th>2</th>\n",
       "      <td>2025-01-22</td>\n",
       "      <td>3337.260254</td>\n",
       "    </tr>\n",
       "    <tr>\n",
       "      <th>3</th>\n",
       "      <td>2025-01-23</td>\n",
       "      <td>3305.039062</td>\n",
       "    </tr>\n",
       "    <tr>\n",
       "      <th>4</th>\n",
       "      <td>2025-01-24</td>\n",
       "      <td>3398.697510</td>\n",
       "    </tr>\n",
       "    <tr>\n",
       "      <th>5</th>\n",
       "      <td>2025-01-25</td>\n",
       "      <td>3344.757080</td>\n",
       "    </tr>\n",
       "    <tr>\n",
       "      <th>6</th>\n",
       "      <td>2025-01-26</td>\n",
       "      <td>3310.317383</td>\n",
       "    </tr>\n",
       "  </tbody>\n",
       "</table>\n",
       "</div>"
      ],
      "text/plain": [
       "        Date         Open\n",
       "0 2025-01-20  3180.879639\n",
       "1 2025-01-21  3216.153076\n",
       "2 2025-01-22  3337.260254\n",
       "3 2025-01-23  3305.039062\n",
       "4 2025-01-24  3398.697510\n",
       "5 2025-01-25  3344.757080\n",
       "6 2025-01-26  3310.317383"
      ]
     },
     "execution_count": 38,
     "metadata": {},
     "output_type": "execute_result"
    }
   ],
   "source": [
    "df_forecast"
   ]
  },
  {
   "cell_type": "code",
   "execution_count": 39,
   "metadata": {},
   "outputs": [
    {
     "name": "stderr",
     "output_type": "stream",
     "text": [
      "c:\\Users\\CAE-USER\\anaconda3\\envs\\ai\\lib\\site-packages\\ipykernel_launcher.py:2: SettingWithCopyWarning: \n",
      "A value is trying to be set on a copy of a slice from a DataFrame.\n",
      "Try using .loc[row_indexer,col_indexer] = value instead\n",
      "\n",
      "See the caveats in the documentation: https://pandas.pydata.org/pandas-docs/stable/user_guide/indexing.html#returning-a-view-versus-a-copy\n",
      "  \n",
      "c:\\Users\\CAE-USER\\anaconda3\\envs\\ai\\lib\\site-packages\\ipykernel_launcher.py:3: SettingWithCopyWarning: \n",
      "A value is trying to be set on a copy of a slice from a DataFrame.\n",
      "Try using .loc[row_indexer,col_indexer] = value instead\n",
      "\n",
      "See the caveats in the documentation: https://pandas.pydata.org/pandas-docs/stable/user_guide/indexing.html#returning-a-view-versus-a-copy\n",
      "  This is separate from the ipykernel package so we can avoid doing imports until\n"
     ]
    }
   ],
   "source": [
    "original = df[['Date', 'Open']]\n",
    "original['Date'] = train_dates\n",
    "original['Open'] = training_df.Open\n",
    "#original['Date'] = pd.to_datetime(original['Date'])\n",
    "original = original.loc[original['Date'] >= '2025-01-01']"
   ]
  },
  {
   "cell_type": "code",
   "execution_count": 40,
   "metadata": {},
   "outputs": [
    {
     "data": {
      "text/html": [
       "<div>\n",
       "<style scoped>\n",
       "    .dataframe tbody tr th:only-of-type {\n",
       "        vertical-align: middle;\n",
       "    }\n",
       "\n",
       "    .dataframe tbody tr th {\n",
       "        vertical-align: top;\n",
       "    }\n",
       "\n",
       "    .dataframe thead th {\n",
       "        text-align: right;\n",
       "    }\n",
       "</style>\n",
       "<table border=\"1\" class=\"dataframe\">\n",
       "  <thead>\n",
       "    <tr style=\"text-align: right;\">\n",
       "      <th></th>\n",
       "      <th>Date</th>\n",
       "      <th>Open</th>\n",
       "    </tr>\n",
       "  </thead>\n",
       "  <tbody>\n",
       "    <tr>\n",
       "      <th>348</th>\n",
       "      <td>2025-01-01</td>\n",
       "      <td>3337.80</td>\n",
       "    </tr>\n",
       "    <tr>\n",
       "      <th>349</th>\n",
       "      <td>2025-01-02</td>\n",
       "      <td>3360.14</td>\n",
       "    </tr>\n",
       "    <tr>\n",
       "      <th>350</th>\n",
       "      <td>2025-01-03</td>\n",
       "      <td>3455.21</td>\n",
       "    </tr>\n",
       "    <tr>\n",
       "      <th>351</th>\n",
       "      <td>2025-01-04</td>\n",
       "      <td>3608.79</td>\n",
       "    </tr>\n",
       "    <tr>\n",
       "      <th>352</th>\n",
       "      <td>2025-01-05</td>\n",
       "      <td>3656.94</td>\n",
       "    </tr>\n",
       "    <tr>\n",
       "      <th>353</th>\n",
       "      <td>2025-01-06</td>\n",
       "      <td>3635.11</td>\n",
       "    </tr>\n",
       "    <tr>\n",
       "      <th>354</th>\n",
       "      <td>2025-01-07</td>\n",
       "      <td>3687.71</td>\n",
       "    </tr>\n",
       "    <tr>\n",
       "      <th>355</th>\n",
       "      <td>2025-01-08</td>\n",
       "      <td>3380.50</td>\n",
       "    </tr>\n",
       "    <tr>\n",
       "      <th>356</th>\n",
       "      <td>2025-01-09</td>\n",
       "      <td>3327.14</td>\n",
       "    </tr>\n",
       "    <tr>\n",
       "      <th>357</th>\n",
       "      <td>2025-01-10</td>\n",
       "      <td>3218.15</td>\n",
       "    </tr>\n",
       "    <tr>\n",
       "      <th>358</th>\n",
       "      <td>2025-01-11</td>\n",
       "      <td>3267.08</td>\n",
       "    </tr>\n",
       "    <tr>\n",
       "      <th>359</th>\n",
       "      <td>2025-01-12</td>\n",
       "      <td>3282.89</td>\n",
       "    </tr>\n",
       "    <tr>\n",
       "      <th>360</th>\n",
       "      <td>2025-01-13</td>\n",
       "      <td>3267.52</td>\n",
       "    </tr>\n",
       "    <tr>\n",
       "      <th>361</th>\n",
       "      <td>2025-01-14</td>\n",
       "      <td>3137.77</td>\n",
       "    </tr>\n",
       "    <tr>\n",
       "      <th>362</th>\n",
       "      <td>2025-01-15</td>\n",
       "      <td>3224.16</td>\n",
       "    </tr>\n",
       "    <tr>\n",
       "      <th>363</th>\n",
       "      <td>2025-01-16</td>\n",
       "      <td>3450.79</td>\n",
       "    </tr>\n",
       "    <tr>\n",
       "      <th>364</th>\n",
       "      <td>2025-01-17</td>\n",
       "      <td>3307.10</td>\n",
       "    </tr>\n",
       "    <tr>\n",
       "      <th>365</th>\n",
       "      <td>2025-01-18</td>\n",
       "      <td>3472.84</td>\n",
       "    </tr>\n",
       "    <tr>\n",
       "      <th>366</th>\n",
       "      <td>2025-01-19</td>\n",
       "      <td>3308.73</td>\n",
       "    </tr>\n",
       "    <tr>\n",
       "      <th>367</th>\n",
       "      <td>2025-01-20</td>\n",
       "      <td>3216.67</td>\n",
       "    </tr>\n",
       "  </tbody>\n",
       "</table>\n",
       "</div>"
      ],
      "text/plain": [
       "          Date     Open\n",
       "348 2025-01-01  3337.80\n",
       "349 2025-01-02  3360.14\n",
       "350 2025-01-03  3455.21\n",
       "351 2025-01-04  3608.79\n",
       "352 2025-01-05  3656.94\n",
       "353 2025-01-06  3635.11\n",
       "354 2025-01-07  3687.71\n",
       "355 2025-01-08  3380.50\n",
       "356 2025-01-09  3327.14\n",
       "357 2025-01-10  3218.15\n",
       "358 2025-01-11  3267.08\n",
       "359 2025-01-12  3282.89\n",
       "360 2025-01-13  3267.52\n",
       "361 2025-01-14  3137.77\n",
       "362 2025-01-15  3224.16\n",
       "363 2025-01-16  3450.79\n",
       "364 2025-01-17  3307.10\n",
       "365 2025-01-18  3472.84\n",
       "366 2025-01-19  3308.73\n",
       "367 2025-01-20  3216.67"
      ]
     },
     "execution_count": 40,
     "metadata": {},
     "output_type": "execute_result"
    }
   ],
   "source": [
    "original\n",
    "#df_forecast"
   ]
  },
  {
   "cell_type": "code",
   "execution_count": 41,
   "metadata": {},
   "outputs": [
    {
     "data": {
      "text/plain": [
       "<AxesSubplot:xlabel='Date', ylabel='Open'>"
      ]
     },
     "execution_count": 41,
     "metadata": {},
     "output_type": "execute_result"
    },
    {
     "data": {
      "image/png": "[encoded data removed]",
      "text/plain": [
       "<Figure size 1200x600 with 1 Axes>"
      ]
     },
     "metadata": {},
     "output_type": "display_data"
    }
   ],
   "source": [
    "#sns.lineplot(original.Date, original.Open)\n",
    "#sns.lineplot(df_forecast.Date, df_forecast.Open)\n",
    "plt.figure(figsize=(12,6))\n",
    "\n",
    "sns.lineplot(x='Date', y='Open', data=original)\n",
    "sns.lineplot(x='Date', y='Open', data=df_forecast)"
   ]
  }
 ],
 "metadata": {
  "kernelspec": {
   "display_name": "ai",
   "language": "python",
   "name": "python3"
  },
  "language_info": {
   "codemirror_mode": {
    "name": "ipython",
    "version": 3
   },
   "file_extension": ".py",
   "mimetype": "text/x-python",
   "name": "python",
   "nbconvert_exporter": "python",
   "pygments_lexer": "ipython3",
   "version": "3.7.12"
  }
 },
 "nbformat": 4,
 "nbformat_minor": 2
}
